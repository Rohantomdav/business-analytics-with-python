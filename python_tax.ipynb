{
  "nbformat": 4,
  "nbformat_minor": 0,
  "metadata": {
    "colab": {
      "name": "python tax.ipynb",
      "provenance": []
    },
    "kernelspec": {
      "name": "python3",
      "display_name": "Python 3"
    },
    "language_info": {
      "name": "python"
    }
  },
  "cells": [
    {
      "cell_type": "code",
      "execution_count": 5,
      "metadata": {
        "colab": {
          "base_uri": "https://localhost:8080/"
        },
        "id": "Eroick-BNi09",
        "outputId": "a4b52528-58cc-40c4-b509-a5074a09776d"
      },
      "outputs": [
        {
          "output_type": "stream",
          "name": "stdout",
          "text": [
            "enter a number:65\n",
            "enter the second number:32\n",
            "sum , 97\n",
            "\n",
            "subtraction , 33\n",
            "\n",
            "multiplication , 2080\n",
            "\n",
            "division , 2.03125\n",
            "\n"
          ]
        }
      ],
      "source": [
        "x=int(input('enter a number:'))\n",
        "y=int(input('enter the second number:'))\n",
        "print('sum',\",\",x+y)\n",
        "print()\n",
        "print('subtraction',\",\",x-y)\n",
        "print()\n",
        "print('multiplication',\",\",x*y)\n",
        "print()\n",
        "print('division',\",\",x/y)\n",
        "print()"
      ]
    },
    {
      "cell_type": "code",
      "source": [
        "\n",
        "p=int(input('Enter the principle amount  :'))\n",
        "n=int(input('Enter the number of years  :'))\n",
        "r=int(input('Enter the interest amount  :'))/100\n",
        "print()\n",
        "i=p*n*r\n",
        "print('Principle Interest is:',i)\n",
        "\n"
      ],
      "metadata": {
        "colab": {
          "base_uri": "https://localhost:8080/"
        },
        "id": "yFKRg1c1Pg9R",
        "outputId": "30defa86-4c30-40b5-bc02-e6ee96ab1575"
      },
      "execution_count": 11,
      "outputs": [
        {
          "output_type": "stream",
          "name": "stdout",
          "text": [
            "Enter the principle amount  :100000\n",
            "Enter the number of years  :5\n",
            "Enter the interest amount  :23\n",
            "\n",
            "Principle Interest is: 115000.0\n"
          ]
        }
      ]
    },
    {
      "cell_type": "code",
      "source": [
        "banking=float(input('Enter the mark  :'))\n",
        "if banking>50:\n",
        "  print('Passed')\n",
        "else:\n",
        "  print(\"Failed\")\n"
      ],
      "metadata": {
        "colab": {
          "base_uri": "https://localhost:8080/"
        },
        "id": "s7NLHv1OU5Yc",
        "outputId": "2ddb9b02-b562-47cd-bf5d-056db1f79a7b"
      },
      "execution_count": 16,
      "outputs": [
        {
          "output_type": "stream",
          "name": "stdout",
          "text": [
            "Enter the mark  :50.5\n",
            "Passed\n"
          ]
        }
      ]
    },
    {
      "cell_type": "code",
      "source": [
        "s=int(input('Enter your salary'))\n",
        "d=s-250000\n",
        "if s>300000 and s<500000:\n",
        "  print('Mr\\Mrs you are taxable')\n",
        "  print('Your tax amount is:',d*(10/100))\n",
        "elif s>500000:\n",
        "  print('your tax amount is :',d*(20/100))\n",
        "else:\n",
        "  print('Not taxable')\n"
      ],
      "metadata": {
        "colab": {
          "base_uri": "https://localhost:8080/"
        },
        "id": "GZCgBZ31X56z",
        "outputId": "8c79479c-1d7e-48d7-9ca9-c27a70d13bd9"
      },
      "execution_count": 36,
      "outputs": [
        {
          "output_type": "stream",
          "name": "stdout",
          "text": [
            "Enter your salary350000\n",
            "Mr\\Mrs you are taxable\n",
            "Your tax amount is: 10000.0\n"
          ]
        }
      ]
    },
    {
      "cell_type": "code",
      "source": [
        ""
      ],
      "metadata": {
        "id": "RvaUroTzazxl"
      },
      "execution_count": 35,
      "outputs": []
    },
    {
      "cell_type": "code",
      "source": [
        ""
      ],
      "metadata": {
        "id": "4KQVO3EKfDpx"
      },
      "execution_count": null,
      "outputs": []
    }
  ]
}